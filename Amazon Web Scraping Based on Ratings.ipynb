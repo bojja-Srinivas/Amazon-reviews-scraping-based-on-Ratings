{
 "cells": [
  {
   "cell_type": "code",
   "execution_count": 54,
   "id": "8026ebac-36fb-4be0-aee8-5e1aee63a014",
   "metadata": {},
   "outputs": [
    {
     "name": "stdout",
     "output_type": "stream",
     "text": [
      "Requirement already satisfied: bs4 in c:\\users\\bojja\\anaconda3\\lib\\site-packages (0.0.2)\n",
      "Requirement already satisfied: beautifulsoup4 in c:\\users\\bojja\\anaconda3\\lib\\site-packages (from bs4) (4.12.3)\n",
      "Requirement already satisfied: soupsieve>1.2 in c:\\users\\bojja\\anaconda3\\lib\\site-packages (from beautifulsoup4->bs4) (2.5)\n"
     ]
    }
   ],
   "source": [
    "!pip install bs4"
   ]
  },
  {
   "cell_type": "code",
   "execution_count": 55,
   "id": "3700c069-a643-41f7-8441-c6b3f4fa841b",
   "metadata": {},
   "outputs": [
    {
     "name": "stdout",
     "output_type": "stream",
     "text": [
      "Requirement already satisfied: requests in c:\\users\\bojja\\anaconda3\\lib\\site-packages (2.32.2)\n",
      "Requirement already satisfied: charset-normalizer<4,>=2 in c:\\users\\bojja\\anaconda3\\lib\\site-packages (from requests) (2.0.4)\n",
      "Requirement already satisfied: idna<4,>=2.5 in c:\\users\\bojja\\anaconda3\\lib\\site-packages (from requests) (3.7)\n",
      "Requirement already satisfied: urllib3<3,>=1.21.1 in c:\\users\\bojja\\anaconda3\\lib\\site-packages (from requests) (2.2.2)\n",
      "Requirement already satisfied: certifi>=2017.4.17 in c:\\users\\bojja\\anaconda3\\lib\\site-packages (from requests) (2024.6.2)\n"
     ]
    }
   ],
   "source": [
    "!pip install requests"
   ]
  },
  {
   "cell_type": "code",
   "execution_count": 5,
   "id": "4195a800-8d89-4dc2-9285-18fd1ab547c6",
   "metadata": {},
   "outputs": [],
   "source": [
    "import pandas as pd\n",
    "from bs4 import BeautifulSoup as bs\n",
    "import requests"
   ]
  },
  {
   "cell_type": "code",
   "execution_count": 15,
   "id": "c18bc433-f4a9-4745-9dde-8ddbd50b44d3",
   "metadata": {
    "scrolled": true
   },
   "outputs": [
    {
     "name": "stdout",
     "output_type": "stream",
     "text": [
      "Collecting autoscraper\n",
      "  Downloading autoscraper-1.1.14-py3-none-any.whl.metadata (5.3 kB)\n",
      "Requirement already satisfied: requests in c:\\users\\bojja\\anaconda3\\lib\\site-packages (from autoscraper) (2.32.2)\n",
      "Requirement already satisfied: bs4 in c:\\users\\bojja\\anaconda3\\lib\\site-packages (from autoscraper) (0.0.2)\n",
      "Requirement already satisfied: lxml in c:\\users\\bojja\\anaconda3\\lib\\site-packages (from autoscraper) (5.2.1)\n",
      "Requirement already satisfied: beautifulsoup4 in c:\\users\\bojja\\anaconda3\\lib\\site-packages (from bs4->autoscraper) (4.12.3)\n",
      "Requirement already satisfied: charset-normalizer<4,>=2 in c:\\users\\bojja\\anaconda3\\lib\\site-packages (from requests->autoscraper) (2.0.4)\n",
      "Requirement already satisfied: idna<4,>=2.5 in c:\\users\\bojja\\anaconda3\\lib\\site-packages (from requests->autoscraper) (3.7)\n",
      "Requirement already satisfied: urllib3<3,>=1.21.1 in c:\\users\\bojja\\anaconda3\\lib\\site-packages (from requests->autoscraper) (2.2.2)\n",
      "Requirement already satisfied: certifi>=2017.4.17 in c:\\users\\bojja\\anaconda3\\lib\\site-packages (from requests->autoscraper) (2024.6.2)\n",
      "Requirement already satisfied: soupsieve>1.2 in c:\\users\\bojja\\anaconda3\\lib\\site-packages (from beautifulsoup4->bs4->autoscraper) (2.5)\n",
      "Downloading autoscraper-1.1.14-py3-none-any.whl (10 kB)\n",
      "Installing collected packages: autoscraper\n",
      "Successfully installed autoscraper-1.1.14\n"
     ]
    }
   ],
   "source": [
    "!pip install autoscraper"
   ]
  },
  {
   "cell_type": "code",
   "execution_count": 137,
   "id": "9b8e1436-38fc-42ae-9e9a-ea02f8a29e9d",
   "metadata": {},
   "outputs": [
    {
     "name": "stdout",
     "output_type": "stream",
     "text": [
      "Requirement already satisfied: beautifulsoup4 in c:\\users\\bojja\\anaconda3\\lib\\site-packages (4.12.3)\n",
      "Requirement already satisfied: soupsieve>1.2 in c:\\users\\bojja\\anaconda3\\lib\\site-packages (from beautifulsoup4) (2.5)\n"
     ]
    }
   ],
   "source": [
    "!pip install beautifulsoup4"
   ]
  },
  {
   "cell_type": "code",
   "execution_count": 121,
   "id": "07b0ea96-8ee4-4713-ae2f-97f0ac94bff7",
   "metadata": {},
   "outputs": [],
   "source": [
    "from bs4 import BeautifulSoup\n",
    "import requests\n",
    "import pandas as pd\n",
    "import numpy as np"
   ]
  },
  {
   "cell_type": "code",
   "execution_count": 35,
   "id": "b346e524-4915-4a32-86f0-fc34c6540ad2",
   "metadata": {},
   "outputs": [
    {
     "name": "stdout",
     "output_type": "stream",
     "text": [
      "Collecting selenium\n",
      "  Downloading selenium-4.25.0-py3-none-any.whl.metadata (7.1 kB)\n",
      "Requirement already satisfied: urllib3<3,>=1.26 in c:\\users\\bojja\\anaconda3\\lib\\site-packages (from urllib3[socks]<3,>=1.26->selenium) (2.2.2)\n",
      "Collecting trio~=0.17 (from selenium)\n",
      "  Downloading trio-0.26.2-py3-none-any.whl.metadata (8.6 kB)\n",
      "Collecting trio-websocket~=0.9 (from selenium)\n",
      "  Downloading trio_websocket-0.11.1-py3-none-any.whl.metadata (4.7 kB)\n",
      "Requirement already satisfied: certifi>=2021.10.8 in c:\\users\\bojja\\anaconda3\\lib\\site-packages (from selenium) (2024.6.2)\n",
      "Requirement already satisfied: typing_extensions~=4.9 in c:\\users\\bojja\\anaconda3\\lib\\site-packages (from selenium) (4.11.0)\n",
      "Requirement already satisfied: websocket-client~=1.8 in c:\\users\\bojja\\anaconda3\\lib\\site-packages (from selenium) (1.8.0)\n",
      "Collecting attrs>=23.2.0 (from trio~=0.17->selenium)\n",
      "  Downloading attrs-24.2.0-py3-none-any.whl.metadata (11 kB)\n",
      "Requirement already satisfied: sortedcontainers in c:\\users\\bojja\\anaconda3\\lib\\site-packages (from trio~=0.17->selenium) (2.4.0)\n",
      "Requirement already satisfied: idna in c:\\users\\bojja\\anaconda3\\lib\\site-packages (from trio~=0.17->selenium) (3.7)\n",
      "Collecting outcome (from trio~=0.17->selenium)\n",
      "  Downloading outcome-1.3.0.post0-py2.py3-none-any.whl.metadata (2.6 kB)\n",
      "Requirement already satisfied: sniffio>=1.3.0 in c:\\users\\bojja\\anaconda3\\lib\\site-packages (from trio~=0.17->selenium) (1.3.0)\n",
      "Requirement already satisfied: cffi>=1.14 in c:\\users\\bojja\\anaconda3\\lib\\site-packages (from trio~=0.17->selenium) (1.16.0)\n",
      "Collecting wsproto>=0.14 (from trio-websocket~=0.9->selenium)\n",
      "  Downloading wsproto-1.2.0-py3-none-any.whl.metadata (5.6 kB)\n",
      "Requirement already satisfied: pysocks!=1.5.7,<2.0,>=1.5.6 in c:\\users\\bojja\\anaconda3\\lib\\site-packages (from urllib3[socks]<3,>=1.26->selenium) (1.7.1)\n",
      "Requirement already satisfied: pycparser in c:\\users\\bojja\\anaconda3\\lib\\site-packages (from cffi>=1.14->trio~=0.17->selenium) (2.21)\n",
      "Requirement already satisfied: h11<1,>=0.9.0 in c:\\users\\bojja\\anaconda3\\lib\\site-packages (from wsproto>=0.14->trio-websocket~=0.9->selenium) (0.14.0)\n",
      "Downloading selenium-4.25.0-py3-none-any.whl (9.7 MB)\n",
      "   ---------------------------------------- 0.0/9.7 MB ? eta -:--:--\n",
      "   ---------------------------------------- 0.0/9.7 MB 991.0 kB/s eta 0:00:10\n",
      "   ---------------------------------------- 0.1/9.7 MB 1.3 MB/s eta 0:00:08\n",
      "    --------------------------------------- 0.1/9.7 MB 1.2 MB/s eta 0:00:08\n",
      "   - -------------------------------------- 0.2/9.7 MB 1.5 MB/s eta 0:00:07\n",
      "   - -------------------------------------- 0.3/9.7 MB 1.4 MB/s eta 0:00:07\n",
      "   - -------------------------------------- 0.4/9.7 MB 1.4 MB/s eta 0:00:07\n",
      "   - -------------------------------------- 0.5/9.7 MB 1.5 MB/s eta 0:00:07\n",
      "   -- ------------------------------------- 0.6/9.7 MB 1.5 MB/s eta 0:00:06\n",
      "   -- ------------------------------------- 0.7/9.7 MB 1.6 MB/s eta 0:00:06\n",
      "   --- ------------------------------------ 0.7/9.7 MB 1.6 MB/s eta 0:00:06\n",
      "   --- ------------------------------------ 0.8/9.7 MB 1.7 MB/s eta 0:00:06\n",
      "   --- ------------------------------------ 0.9/9.7 MB 1.6 MB/s eta 0:00:06\n",
      "   --- ------------------------------------ 1.0/9.7 MB 1.6 MB/s eta 0:00:06\n",
      "   ---- ----------------------------------- 1.1/9.7 MB 1.7 MB/s eta 0:00:06\n",
      "   ---- ----------------------------------- 1.2/9.7 MB 1.7 MB/s eta 0:00:06\n",
      "   ----- ---------------------------------- 1.3/9.7 MB 1.7 MB/s eta 0:00:05\n",
      "   ----- ---------------------------------- 1.4/9.7 MB 1.8 MB/s eta 0:00:05\n",
      "   ----- ---------------------------------- 1.4/9.7 MB 1.7 MB/s eta 0:00:05\n",
      "   ------ --------------------------------- 1.5/9.7 MB 1.6 MB/s eta 0:00:06\n",
      "   ------ --------------------------------- 1.5/9.7 MB 1.6 MB/s eta 0:00:05\n",
      "   ------ --------------------------------- 1.6/9.7 MB 1.6 MB/s eta 0:00:05\n",
      "   ------ --------------------------------- 1.7/9.7 MB 1.6 MB/s eta 0:00:05\n",
      "   ------- -------------------------------- 1.7/9.7 MB 1.6 MB/s eta 0:00:05\n",
      "   ------- -------------------------------- 1.8/9.7 MB 1.6 MB/s eta 0:00:05\n",
      "   -------- ------------------------------- 2.0/9.7 MB 1.7 MB/s eta 0:00:05\n",
      "   -------- ------------------------------- 2.0/9.7 MB 1.7 MB/s eta 0:00:05\n",
      "   -------- ------------------------------- 2.0/9.7 MB 1.7 MB/s eta 0:00:05\n",
      "   -------- ------------------------------- 2.1/9.7 MB 1.6 MB/s eta 0:00:05\n",
      "   -------- ------------------------------- 2.1/9.7 MB 1.6 MB/s eta 0:00:05\n",
      "   -------- ------------------------------- 2.2/9.7 MB 1.6 MB/s eta 0:00:05\n",
      "   --------- ------------------------------ 2.2/9.7 MB 1.5 MB/s eta 0:00:05\n",
      "   --------- ------------------------------ 2.3/9.7 MB 1.5 MB/s eta 0:00:05\n",
      "   --------- ------------------------------ 2.3/9.7 MB 1.5 MB/s eta 0:00:05\n",
      "   --------- ------------------------------ 2.4/9.7 MB 1.5 MB/s eta 0:00:05\n",
      "   ---------- ----------------------------- 2.5/9.7 MB 1.5 MB/s eta 0:00:05\n",
      "   ---------- ----------------------------- 2.5/9.7 MB 1.5 MB/s eta 0:00:05\n",
      "   ---------- ----------------------------- 2.6/9.7 MB 1.5 MB/s eta 0:00:05\n",
      "   ---------- ----------------------------- 2.6/9.7 MB 1.5 MB/s eta 0:00:05\n",
      "   ----------- ---------------------------- 2.7/9.7 MB 1.5 MB/s eta 0:00:05\n",
      "   ----------- ---------------------------- 2.8/9.7 MB 1.5 MB/s eta 0:00:05\n",
      "   ----------- ---------------------------- 2.8/9.7 MB 1.5 MB/s eta 0:00:05\n",
      "   ------------ --------------------------- 2.9/9.7 MB 1.5 MB/s eta 0:00:05\n",
      "   ------------ --------------------------- 2.9/9.7 MB 1.5 MB/s eta 0:00:05\n",
      "   ------------ --------------------------- 3.1/9.7 MB 1.5 MB/s eta 0:00:05\n",
      "   ------------- -------------------------- 3.2/9.7 MB 1.5 MB/s eta 0:00:05\n",
      "   ------------- -------------------------- 3.3/9.7 MB 1.5 MB/s eta 0:00:05\n",
      "   -------------- ------------------------- 3.4/9.7 MB 1.5 MB/s eta 0:00:05\n",
      "   -------------- ------------------------- 3.6/9.7 MB 1.6 MB/s eta 0:00:04\n",
      "   --------------- ------------------------ 3.7/9.7 MB 1.6 MB/s eta 0:00:04\n",
      "   --------------- ------------------------ 3.9/9.7 MB 1.6 MB/s eta 0:00:04\n",
      "   ---------------- ----------------------- 4.0/9.7 MB 1.7 MB/s eta 0:00:04\n",
      "   ---------------- ----------------------- 4.1/9.7 MB 1.7 MB/s eta 0:00:04\n",
      "   ----------------- ---------------------- 4.2/9.7 MB 1.7 MB/s eta 0:00:04\n",
      "   ----------------- ---------------------- 4.3/9.7 MB 1.7 MB/s eta 0:00:04\n",
      "   ------------------ --------------------- 4.4/9.7 MB 1.7 MB/s eta 0:00:04\n",
      "   ------------------ --------------------- 4.5/9.7 MB 1.7 MB/s eta 0:00:04\n",
      "   ------------------- -------------------- 4.6/9.7 MB 1.7 MB/s eta 0:00:03\n",
      "   ------------------- -------------------- 4.8/9.7 MB 1.8 MB/s eta 0:00:03\n",
      "   -------------------- ------------------- 5.0/9.7 MB 1.8 MB/s eta 0:00:03\n",
      "   --------------------- ------------------ 5.2/9.7 MB 1.8 MB/s eta 0:00:03\n",
      "   --------------------- ------------------ 5.3/9.7 MB 1.8 MB/s eta 0:00:03\n",
      "   ---------------------- ----------------- 5.5/9.7 MB 1.9 MB/s eta 0:00:03\n",
      "   ----------------------- ---------------- 5.7/9.7 MB 1.9 MB/s eta 0:00:03\n",
      "   ----------------------- ---------------- 5.8/9.7 MB 1.9 MB/s eta 0:00:03\n",
      "   ------------------------ --------------- 6.0/9.7 MB 1.9 MB/s eta 0:00:02\n",
      "   ------------------------- -------------- 6.1/9.7 MB 2.0 MB/s eta 0:00:02\n",
      "   -------------------------- ------------- 6.4/9.7 MB 2.0 MB/s eta 0:00:02\n",
      "   --------------------------- ------------ 6.6/9.7 MB 2.0 MB/s eta 0:00:02\n",
      "   --------------------------- ------------ 6.7/9.7 MB 2.1 MB/s eta 0:00:02\n",
      "   ---------------------------- ----------- 6.9/9.7 MB 2.1 MB/s eta 0:00:02\n",
      "   ----------------------------- ---------- 7.1/9.7 MB 2.1 MB/s eta 0:00:02\n",
      "   ----------------------------- ---------- 7.2/9.7 MB 2.1 MB/s eta 0:00:02\n",
      "   ------------------------------ --------- 7.4/9.7 MB 2.1 MB/s eta 0:00:02\n",
      "   ------------------------------ --------- 7.5/9.7 MB 2.1 MB/s eta 0:00:02\n",
      "   ------------------------------- -------- 7.6/9.7 MB 2.1 MB/s eta 0:00:01\n",
      "   ------------------------------- -------- 7.7/9.7 MB 2.1 MB/s eta 0:00:01\n",
      "   -------------------------------- ------- 7.8/9.7 MB 2.1 MB/s eta 0:00:01\n",
      "   -------------------------------- ------- 7.8/9.7 MB 2.1 MB/s eta 0:00:01\n",
      "   -------------------------------- ------- 7.8/9.7 MB 2.1 MB/s eta 0:00:01\n",
      "   -------------------------------- ------- 7.8/9.7 MB 2.1 MB/s eta 0:00:01\n",
      "   -------------------------------- ------- 7.9/9.7 MB 2.1 MB/s eta 0:00:01\n",
      "   --------------------------------- ------ 8.0/9.7 MB 2.1 MB/s eta 0:00:01\n",
      "   --------------------------------- ------ 8.2/9.7 MB 2.1 MB/s eta 0:00:01\n",
      "   ---------------------------------- ----- 8.4/9.7 MB 2.1 MB/s eta 0:00:01\n",
      "   ----------------------------------- ---- 8.5/9.7 MB 2.1 MB/s eta 0:00:01\n",
      "   ----------------------------------- ---- 8.7/9.7 MB 2.1 MB/s eta 0:00:01\n",
      "   ------------------------------------ --- 8.7/9.7 MB 2.1 MB/s eta 0:00:01\n",
      "   ------------------------------------ --- 8.7/9.7 MB 2.1 MB/s eta 0:00:01\n",
      "   ------------------------------------ --- 8.8/9.7 MB 2.1 MB/s eta 0:00:01\n",
      "   ------------------------------------- -- 9.2/9.7 MB 2.2 MB/s eta 0:00:01\n",
      "   -------------------------------------- - 9.3/9.7 MB 2.2 MB/s eta 0:00:01\n",
      "   -------------------------------------- - 9.4/9.7 MB 2.2 MB/s eta 0:00:01\n",
      "   ---------------------------------------  9.6/9.7 MB 2.2 MB/s eta 0:00:01\n",
      "   ---------------------------------------  9.6/9.7 MB 2.2 MB/s eta 0:00:01\n",
      "   ---------------------------------------  9.6/9.7 MB 2.1 MB/s eta 0:00:01\n",
      "   ---------------------------------------  9.7/9.7 MB 2.1 MB/s eta 0:00:01\n",
      "   ---------------------------------------  9.7/9.7 MB 2.1 MB/s eta 0:00:01\n",
      "   ---------------------------------------- 9.7/9.7 MB 2.1 MB/s eta 0:00:00\n",
      "Downloading trio-0.26.2-py3-none-any.whl (475 kB)\n",
      "   ---------------------------------------- 0.0/476.0 kB ? eta -:--:--\n",
      "   ------------ --------------------------- 143.4/476.0 kB 2.8 MB/s eta 0:00:01\n",
      "   -------------------------- ------------- 317.4/476.0 kB 2.8 MB/s eta 0:00:01\n",
      "   ---------------------------------- ----- 409.6/476.0 kB 3.2 MB/s eta 0:00:01\n",
      "   ---------------------------------------  471.0/476.0 kB 2.5 MB/s eta 0:00:01\n",
      "   ---------------------------------------- 476.0/476.0 kB 2.3 MB/s eta 0:00:00\n",
      "Downloading trio_websocket-0.11.1-py3-none-any.whl (17 kB)\n",
      "Downloading attrs-24.2.0-py3-none-any.whl (63 kB)\n",
      "   ---------------------------------------- 0.0/63.0 kB ? eta -:--:--\n",
      "   ---------------------------------------- 63.0/63.0 kB 1.7 MB/s eta 0:00:00\n",
      "Downloading wsproto-1.2.0-py3-none-any.whl (24 kB)\n",
      "Downloading outcome-1.3.0.post0-py2.py3-none-any.whl (10 kB)\n",
      "Installing collected packages: wsproto, attrs, outcome, trio, trio-websocket, selenium\n",
      "  Attempting uninstall: attrs\n",
      "    Found existing installation: attrs 23.1.0\n",
      "    Uninstalling attrs-23.1.0:\n",
      "      Successfully uninstalled attrs-23.1.0\n",
      "Successfully installed attrs-24.2.0 outcome-1.3.0.post0 selenium-4.25.0 trio-0.26.2 trio-websocket-0.11.1 wsproto-1.2.0\n"
     ]
    }
   ],
   "source": [
    "!pip install selenium"
   ]
  },
  {
   "cell_type": "code",
   "execution_count": 143,
   "id": "58312547-cf33-4def-81e2-059b35f5bb8b",
   "metadata": {},
   "outputs": [],
   "source": [
    "from autoscraper import AutoScraper"
   ]
  },
  {
   "cell_type": "code",
   "execution_count": 1,
   "id": "5a1dc2c8-eb1e-48fb-941e-88ace96cfd6d",
   "metadata": {},
   "outputs": [
    {
     "name": "stdout",
     "output_type": "stream",
     "text": [
      "Requirement already satisfied: python-dateutil in c:\\users\\bojja\\anaconda3\\lib\\site-packages (2.9.0.post0)\n",
      "Requirement already satisfied: lxml in c:\\users\\bojja\\anaconda3\\lib\\site-packages (5.2.1)\n",
      "Requirement already satisfied: requests in c:\\users\\bojja\\anaconda3\\lib\\site-packages (2.32.2)\n",
      "Collecting selectorlib\n",
      "  Downloading selectorlib-0.16.0-py2.py3-none-any.whl.metadata (2.2 kB)\n",
      "Requirement already satisfied: six>=1.5 in c:\\users\\bojja\\anaconda3\\lib\\site-packages (from python-dateutil) (1.16.0)\n",
      "Requirement already satisfied: charset-normalizer<4,>=2 in c:\\users\\bojja\\anaconda3\\lib\\site-packages (from requests) (2.0.4)\n",
      "Requirement already satisfied: idna<4,>=2.5 in c:\\users\\bojja\\anaconda3\\lib\\site-packages (from requests) (3.7)\n",
      "Requirement already satisfied: urllib3<3,>=1.21.1 in c:\\users\\bojja\\anaconda3\\lib\\site-packages (from requests) (2.2.2)\n",
      "Requirement already satisfied: certifi>=2017.4.17 in c:\\users\\bojja\\anaconda3\\lib\\site-packages (from requests) (2024.6.2)\n",
      "Requirement already satisfied: Click>=6.0 in c:\\users\\bojja\\anaconda3\\lib\\site-packages (from selectorlib) (8.1.7)\n",
      "Requirement already satisfied: pyyaml>=3.12 in c:\\users\\bojja\\anaconda3\\lib\\site-packages (from selectorlib) (6.0.1)\n",
      "Requirement already satisfied: parsel>=1.5.1 in c:\\users\\bojja\\anaconda3\\lib\\site-packages (from selectorlib) (1.8.1)\n",
      "Requirement already satisfied: colorama in c:\\users\\bojja\\anaconda3\\lib\\site-packages (from Click>=6.0->selectorlib) (0.4.6)\n",
      "Requirement already satisfied: cssselect>=0.9 in c:\\users\\bojja\\anaconda3\\lib\\site-packages (from parsel>=1.5.1->selectorlib) (1.2.0)\n",
      "Requirement already satisfied: jmespath in c:\\users\\bojja\\anaconda3\\lib\\site-packages (from parsel>=1.5.1->selectorlib) (1.0.1)\n",
      "Requirement already satisfied: packaging in c:\\users\\bojja\\anaconda3\\lib\\site-packages (from parsel>=1.5.1->selectorlib) (23.2)\n",
      "Requirement already satisfied: w3lib>=1.19.0 in c:\\users\\bojja\\anaconda3\\lib\\site-packages (from parsel>=1.5.1->selectorlib) (2.1.2)\n",
      "Downloading selectorlib-0.16.0-py2.py3-none-any.whl (5.8 kB)\n",
      "Installing collected packages: selectorlib\n",
      "Successfully installed selectorlib-0.16.0\n"
     ]
    }
   ],
   "source": [
    "!pip3 install python-dateutil lxml requests selectorlib"
   ]
  },
  {
   "cell_type": "code",
   "execution_count": 35,
   "id": "ec9e52e2-4766-44d6-9449-cc8b37d78f98",
   "metadata": {},
   "outputs": [
    {
     "name": "stdout",
     "output_type": "stream",
     "text": [
      "                                               Review\n",
      "0   I purchased various Legendary Whitetails Men's...\n",
      "1   I bought this jacket first five years ago and ...\n",
      "2   Fits well, made from comfortable and durable m...\n",
      "3   The short answer to if you should go down from...\n",
      "4   Bought this for my farmer husband (Christmas 2...\n",
      "..                                                ...\n",
      "95  The fit and quality is great! My only gripe is...\n",
      "96  My husband first received one of these jackets...\n",
      "97  My husband absolutely loves this jacket. We li...\n",
      "98  I can't say anything bad. I live in Iowa and r...\n",
      "99  Looks great on my husband. Material is really ...\n",
      "\n",
      "[100 rows x 1 columns]\n"
     ]
    }
   ],
   "source": [
    "from selenium import webdriver\n",
    "from selenium.webdriver.common.by import By\n",
    "from bs4 import BeautifulSoup\n",
    "import time\n",
    "import pandas as pd\n",
    "def get_amazon_reviews_selenium(url):\n",
    "    driver = webdriver.Chrome()  # Make sure you have the ChromeDriver installed\n",
    "    driver.get(url)\n",
    "    \n",
    "    all_reviews = []  # List to store all reviews\n",
    "    \n",
    "    while True:\n",
    "        soup = BeautifulSoup(driver.page_source, 'html.parser')\n",
    "        reviews = soup.find_all('div', {'class': 'a-section review aok-relative'})\n",
    "        \n",
    "        for review in reviews:\n",
    "            review_data = review.find('div', {'class': 'a-row a-spacing-small review-data'})\n",
    "            if review_data:\n",
    "                review_body = review_data.find('span', {'data-hook': 'review-body'})\n",
    "                if review_body:\n",
    "                    review_text = review_body.find('span').text.strip()\n",
    "                    all_reviews.append(review_text)  # Append each review to the list\n",
    "        \n",
    "        # Find the 'Next' button and click it\n",
    "        next_button = driver.find_element(By.CLASS_NAME, 'a-last')\n",
    "        if 'a-disabled' in next_button.get_attribute('class'):\n",
    "            break  # Exit loop if 'Next' button is disabled (last page)\n",
    "        else:\n",
    "            next_button.click()\n",
    "            time.sleep(2)  # Wait for the next page to load\n",
    "    \n",
    "    driver.quit()\n",
    "    \n",
    "    # Create a DataFrame from the list of reviews\n",
    "    reviews_df = pd.DataFrame(all_reviews, columns=['Review'])\n",
    "    return reviews_df\n",
    "\n",
    "# Use the provided URL\n",
    "url = 'https://www.amazon.com/Legendary-Whitetails-Journeyman-Jacket-Tarmac/product-reviews/B013KW38RQ/ref=cm_cr_arp_d_viewopt_rvwer?reviewerType=all_reviews&pageNumber=1&filterByStar=all_stars'\n",
    "reviews_df = get_amazon_reviews_selenium(url)\n",
    "print(reviews_df)\n"
   ]
  },
  {
   "cell_type": "code",
   "execution_count": 53,
   "id": "ecfaa933-ace7-4318-861e-8ec958b601c4",
   "metadata": {},
   "outputs": [
    {
     "name": "stdout",
     "output_type": "stream",
     "text": [
      "                                                Review\n",
      "0    I loved the style of this jacket and the revie...\n",
      "1    I've had this jacket about a year now and I re...\n",
      "2    This is the worst clothing purchase I've ever ...\n",
      "3                                                     \n",
      "4    This may be great for a someone who wants to p...\n",
      "..                                                 ...\n",
      "695  The fit and quality is great! My only gripe is...\n",
      "696  My husband first received one of these jackets...\n",
      "697  My husband absolutely loves this jacket. We li...\n",
      "698  I can't say anything bad. I live in Iowa and r...\n",
      "699  Looks great on my husband. Material is really ...\n",
      "\n",
      "[700 rows x 1 columns]\n"
     ]
    }
   ],
   "source": [
    "def get_amazon_reviews_selenium(url, max_pages=50):\n",
    "    driver = webdriver.Chrome()  # Make sure you have the ChromeDriver installed\n",
    "    all_reviews = []  # List to store all reviews\n",
    "    \n",
    "    star_ratings = ['one_star', 'two_star', 'three_star', 'four_star', 'five_star','Positive_reviews','Negative_reviews']\n",
    "    \n",
    "    for rating in star_ratings:\n",
    "        for page in range(1, max_pages + 1):\n",
    "            driver.get(f\"{url}&filterByStar={rating}&pageNumber={page}\")\n",
    "            time.sleep(2)  # Wait for the page to load\n",
    "            \n",
    "            soup = BeautifulSoup(driver.page_source, 'html.parser')\n",
    "            reviews = soup.find_all('div', {'class': 'a-section review aok-relative'})\n",
    "            \n",
    "            if not reviews:\n",
    "                break  # Exit loop if no reviews are found (end of pages)\n",
    "            \n",
    "            for review in reviews:\n",
    "                review_data = review.find('div', {'class': 'a-row a-spacing-small review-data'})\n",
    "                if review_data:\n",
    "                    review_body = review_data.find('span', {'data-hook': 'review-body'})\n",
    "                    if review_body:\n",
    "                        review_text = review_body.find('span').text.strip()\n",
    "                        all_reviews.append(review_text)  # Append each review to the list\n",
    "    \n",
    "    driver.quit()\n",
    "    \n",
    "    # Create a DataFrame from the list of reviews\n",
    "    reviews_df = pd.DataFrame(all_reviews, columns=['Review'])\n",
    "    return reviews_df\n",
    "\n",
    "# Use the provided URL\n",
    "url = 'https://www.amazon.com/Legendary-Whitetails-Journeyman-Jacket-Tarmac/product-reviews/B013KW38RQ/ref=cm_cr_arp_d_viewopt_rvwer?reviewerType=all_reviews'\n",
    "reviews_df = get_amazon_reviews_selenium(url)\n",
    "print(reviews_df)\n",
    "\n"
   ]
  },
  {
   "cell_type": "code",
   "execution_count": 55,
   "id": "f5a22828-1415-4342-8c3c-f5fd556114cc",
   "metadata": {},
   "outputs": [],
   "source": [
    "reviews_df.to_csv('srinivas_amazon_reviews.csv', index=False)"
   ]
  },
  {
   "cell_type": "code",
   "execution_count": 21,
   "id": "63d05c99-d965-4ce0-ab3c-11d501dfe56c",
   "metadata": {},
   "outputs": [],
   "source": []
  }
 ],
 "metadata": {
  "kernelspec": {
   "display_name": "Python 3 (ipykernel)",
   "language": "python",
   "name": "python3"
  },
  "language_info": {
   "codemirror_mode": {
    "name": "ipython",
    "version": 3
   },
   "file_extension": ".py",
   "mimetype": "text/x-python",
   "name": "python",
   "nbconvert_exporter": "python",
   "pygments_lexer": "ipython3",
   "version": "3.12.4"
  }
 },
 "nbformat": 4,
 "nbformat_minor": 5
}
